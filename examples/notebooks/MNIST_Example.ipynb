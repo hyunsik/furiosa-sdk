{
 "cells": [
  {
   "cell_type": "code",
   "execution_count": 39,
   "metadata": {},
   "outputs": [],
   "source": [
    "!pip install --upgrade --user --quiet furiosa-sdk[runtime] mnist matplotlib "
   ]
  },
  {
   "cell_type": "code",
   "execution_count": 40,
   "metadata": {},
   "outputs": [],
   "source": [
    "# Import MNist dataset package\n",
    "import mnist\n",
    "\n",
    "import numpy as np\n",
    "from matplotlib import pyplot as plt\n",
    "\n",
    "# Import FuriosaSDK Runtime\n",
    "from furiosa.runtime import session\n",
    "# Import Helper for Notebook examples\n",
    "from helper import show_image\n",
    "\n",
    "import time"
   ]
  },
  {
   "cell_type": "code",
   "execution_count": 41,
   "metadata": {},
   "outputs": [],
   "source": [
    "train_images = mnist.train_images()"
   ]
  },
  {
   "cell_type": "code",
   "execution_count": 42,
   "metadata": {},
   "outputs": [
    {
     "name": "stderr",
     "output_type": "stream",
     "text": [
      "[1/6] 🔍   Compiling from tflite to dfg\n",
      "Done in 0.009157744s\n",
      "[2/6] 🔍   Compiling from dfg to ldfg\n"
     ]
    },
    {
     "name": "stdout",
     "output_type": "stream",
     "text": [
      "\u001b[2mOct 09 06:12:30.028\u001b[0m \u001b[32m INFO\u001b[0m Npu (npu0pe0) is being initialized\n",
      "\u001b[2mOct 09 06:12:30.028\u001b[0m \u001b[32m INFO\u001b[0m NuxInner create with pes: [PeId(0)]\n",
      "\u001b[2mOct 09 06:12:30.034\u001b[0m \u001b[32m INFO\u001b[0m [Profiler] Program binary notification has been arrived. Cleanup current profile queue data\n",
      "Compilation took 6.05 secs\n"
     ]
    },
    {
     "name": "stderr",
     "output_type": "stream",
     "text": [
      "Done in 6.006701s\n",
      "[3/6] 🔍   Compiling from ldfg to cdfg\n",
      "Done in 0.000181612s\n",
      "[4/6] 🔍   Compiling from cdfg to gir\n",
      "Done in 0.003096772s\n",
      "[5/6] 🔍   Compiling from gir to lir\n",
      "Done in 0.000873323s\n",
      "[6/6] 🔍   Compiling from lir to enf\n",
      "Done in 0.011404287s\n",
      "✨  Finished in 6.0318875s\n"
     ]
    }
   ],
   "source": [
    "# Load and compile a MNIST model for Furiosa's NPU\n",
    "\n",
    "start_time = time.time()\n",
    "sess = session.create('models/MNIST_MobileNet_v2_uint8_quant_without_avgpool_softmax.tflite')\n",
    "print('Compilation took {:.2f} secs'.format(time.time() - start_time))"
   ]
  },
  {
   "cell_type": "code",
   "execution_count": 43,
   "metadata": {},
   "outputs": [
    {
     "name": "stdout",
     "output_type": "stream",
     "text": [
      "Inputs:\n",
      "{0: TensorDesc: shape=(1, 28, 28, 1), dtype=uint8, format=NHWC, size=784, len=784}\n",
      "Outputs:\n",
      "{0: TensorDesc: shape=(1, 10), dtype=uint8, format=??, size=10, len=10}\n"
     ]
    }
   ],
   "source": [
    "# Print out the summary of the model\n",
    "\n",
    "sess.print_summary()"
   ]
  },
  {
   "cell_type": "code",
   "execution_count": 44,
   "metadata": {},
   "outputs": [
    {
     "name": "stdout",
     "output_type": "stream",
     "text": [
      "(1, 28, 28, 1)\n",
      "(1, 28, 28)\n"
     ]
    }
   ],
   "source": [
    "# Get a slice from x_train which must be the same as the shape of sess.input(0)\n",
    "\n",
    "input = np.array(train_images[2:3], np.uint8)\n",
    "print(sess.input(0).shape())\n",
    "print(input.shape)"
   ]
  },
  {
   "cell_type": "code",
   "execution_count": 45,
   "metadata": {},
   "outputs": [],
   "source": [
    "# Run an inference\n",
    "\n",
    "outputs = sess.run(input)"
   ]
  },
  {
   "cell_type": "code",
   "execution_count": 46,
   "metadata": {},
   "outputs": [
    {
     "data": {
      "text/plain": [
       "{0: <Tensor: shape=(1, 10), dtype=DataType.UINT8, numpy=[[117 151 116 120 159 117 116 142 104 133]]>}"
      ]
     },
     "execution_count": 46,
     "metadata": {},
     "output_type": "execute_result"
    }
   ],
   "source": [
    "# Outputs is also the list of tensors, but this model has only one tensor.\n",
    "\n",
    "outputs"
   ]
  },
  {
   "cell_type": "code",
   "execution_count": 47,
   "metadata": {},
   "outputs": [
    {
     "data": {
      "text/plain": [
       "'Label: 4'"
      ]
     },
     "execution_count": 47,
     "metadata": {},
     "output_type": "execute_result"
    }
   ],
   "source": [
    "# Get the index of the higest score value, and it will be the predicted result of MNIST data.\n",
    "\n",
    "\"Label: {}\".format(np.argmax(outputs[0].numpy()))"
   ]
  },
  {
   "cell_type": "code",
   "execution_count": 48,
   "metadata": {},
   "outputs": [
    {
     "data": {
      "text/plain": [
       "<matplotlib.image.AxesImage at 0x7f3bd191f6d0>"
      ]
     },
     "execution_count": 48,
     "metadata": {},
     "output_type": "execute_result"
    },
    {
     "data": {
      "image/png": "[encoded data removed]",
      "text/plain": [
       "<Figure size 432x288 with 1 Axes>"
      ]
     },
     "metadata": {
      "needs_background": "light"
     },
     "output_type": "display_data"
    }
   ],
   "source": [
    "# Let's draw the image from the input data to make sure the prediction result.\n",
    "\n",
    "test_image = input.reshape(28, 28)\n",
    "plt.figure()\n",
    "plt.imshow(test_image, interpolation='nearest')"
   ]
  },
  {
   "cell_type": "code",
   "execution_count": 49,
   "metadata": {},
   "outputs": [
    {
     "name": "stdout",
     "output_type": "stream",
     "text": [
      "\u001b[2mOct 09 06:12:30.341\u001b[0m \u001b[32m INFO\u001b[0m [Profiler] Received a termination signal.\n",
      "\u001b[2mOct 09 06:12:30.341\u001b[0m \u001b[32m INFO\u001b[0m Profiling summary:\n",
      "\u001b[2mOct 09 06:12:30.341\u001b[0m \u001b[32m INFO\u001b[0m [Inference #0-0], [34866005, 113356818)\n",
      "\u001b[2mOct 09 06:12:30.341\u001b[0m \u001b[32m INFO\u001b[0m   ExternalOperator: 136820 μs, 0.17 %\n",
      "\u001b[2mOct 09 06:12:30.341\u001b[0m \u001b[32m INFO\u001b[0m   Io: 78347 μs, 0.10 %\n",
      "\u001b[2mOct 09 06:12:30.341\u001b[0m \u001b[32m INFO\u001b[0m   Total: 78490813 μs\n",
      "\u001b[2mOct 09 06:12:30.341\u001b[0m \u001b[32m INFO\u001b[0m 1 inferences executed in 78490813 μs, 0.0 fps\n",
      "\u001b[2mOct 09 06:12:30.341\u001b[0m \u001b[32m INFO\u001b[0m session has been destroyed\n"
     ]
    }
   ],
   "source": [
    "sess.close()"
   ]
  },
  {
   "cell_type": "code",
   "execution_count": null,
   "metadata": {},
   "outputs": [],
   "source": []
  }
 ],
 "metadata": {
  "kernelspec": {
   "display_name": "Python 3 (ipykernel)",
   "language": "python",
   "name": "python3"
  },
  "language_info": {
   "codemirror_mode": {
    "name": "ipython",
    "version": 3
   },
   "file_extension": ".py",
   "mimetype": "text/x-python",
   "name": "python",
   "nbconvert_exporter": "python",
   "pygments_lexer": "ipython3",
   "version": "3.9.7"
  }
 },
 "nbformat": 4,
 "nbformat_minor": 4
}
